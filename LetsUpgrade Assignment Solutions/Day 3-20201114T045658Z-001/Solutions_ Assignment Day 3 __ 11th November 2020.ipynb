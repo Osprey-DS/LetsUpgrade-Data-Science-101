{
 "cells": [
  {
   "cell_type": "markdown",
   "metadata": {},
   "source": [
    "# Questions 1:\n",
    "Create a numpy array starting from 2 till 50 with a stepsize of 3."
   ]
  },
  {
   "cell_type": "code",
   "execution_count": 2,
   "metadata": {},
   "outputs": [],
   "source": [
    "import numpy as np"
   ]
  },
  {
   "cell_type": "code",
   "execution_count": 3,
   "metadata": {},
   "outputs": [
    {
     "data": {
      "text/plain": [
       "array([ 2,  5,  8, 11, 14, 17, 20, 23, 26, 29, 32, 35, 38, 41, 44, 47, 50])"
      ]
     },
     "execution_count": 3,
     "metadata": {},
     "output_type": "execute_result"
    }
   ],
   "source": [
    "arr = np.arange(2,51,3)\n",
    "arr"
   ]
  },
  {
   "cell_type": "markdown",
   "metadata": {},
   "source": [
    "# Questions 2:\n",
    "Accept two lists of 5 elements each from the user.\n",
    "Convert them to numpy arrays. Concatenate these arrays and print it. Also sort these arrays and print it."
   ]
  },
  {
   "cell_type": "code",
   "execution_count": 4,
   "metadata": {},
   "outputs": [
    {
     "name": "stdout",
     "output_type": "stream",
     "text": [
      "Enter 5 numbers for list 1 (separate them with space) : 5 1 7 8 9  \n",
      "Enter 5 numbers for list 2 (separate them with space) : 8 9 2 3 7 \n",
      "Concatenate array : -  [5 1 7 8 9 8 9 2 3 7]\n",
      "Sort Concatenate array: -  [1 2 3 5 7 7 8 8 9 9]\n"
     ]
    }
   ],
   "source": [
    "list_1 = list(map(int,input('Enter 5 numbers for list 1 (separate them with space) : ').strip().split()))[:5] \n",
    "list_2 = list(map(int,input('Enter 5 numbers for list 2 (separate them with space) : ').strip().split()))[:5]\n",
    "\n",
    "array_1 = np.array(list_1)\n",
    "array_2 = np.array(list_2)\n",
    "\n",
    "con_array = np.concatenate((array_1,array_2))\n",
    "print(\"Concatenate array : - \",con_array)\n",
    "print(\"Sort Concatenate array: - \",np.sort(con_array))"
   ]
  },
  {
   "cell_type": "markdown",
   "metadata": {},
   "source": [
    "# Questions 3:\n",
    "Write a code snippet to find the dimensions of a ndarray and its size.\n"
   ]
  },
  {
   "cell_type": "code",
   "execution_count": 5,
   "metadata": {},
   "outputs": [
    {
     "name": "stdout",
     "output_type": "stream",
     "text": [
      "[ 0  1  2  3  4  5  6  7  8  9 10 11]\n",
      "The dimention of the array : 1\n",
      "Size of the array: 12\n"
     ]
    }
   ],
   "source": [
    "arr_1 = np.arange(12)\n",
    "print(arr_1)\n",
    "print('The dimention of the array :', arr_1.ndim)\n",
    "print('Size of the array:', arr_1.size)\n",
    "\n",
    "#I find the dimentions and the sie of the array by using numpy 'nd'"
   ]
  },
  {
   "cell_type": "code",
   "execution_count": 6,
   "metadata": {},
   "outputs": [
    {
     "name": "stdout",
     "output_type": "stream",
     "text": [
      "[[ 0  1  2  3]\n",
      " [ 4  5  6  7]\n",
      " [ 8  9 10 11]]\n",
      "The dimention of the array : 2\n",
      "Size of the array: 12\n"
     ]
    }
   ],
   "source": [
    "arr_2 = np.arange(12).reshape((3,4))\n",
    "print(arr_2)\n",
    "print('The dimention of the array :', arr_2.ndim)\n",
    "print('Size of the array:', arr_2.size)"
   ]
  },
  {
   "cell_type": "markdown",
   "metadata": {},
   "source": [
    "# Questions 4:\n",
    "How to convert a 1D array into a 2D array? Demonstrate with the help of a code snippet\n",
    "Hint: np.newaxis, np.expand_dims"
   ]
  },
  {
   "cell_type": "code",
   "execution_count": 8,
   "metadata": {},
   "outputs": [
    {
     "name": "stdout",
     "output_type": "stream",
     "text": [
      "[2 4 8 9 7 8 7 8 6]\n",
      "The dimentions of the array is:  1\n"
     ]
    }
   ],
   "source": [
    "arr_1_dim = np.array([2,4,8,9,7,8,7,8,6])\n",
    "print(arr_1_dim)\n",
    "print('The dimentions of the array is: ', arr_1_dim.ndim)\n",
    "#wI can use the np.newaxis to increase the dimesions in a array\n",
    "# Using np.newaxis will increase the dimensions of your array by one dimension when used once. "
   ]
  },
  {
   "cell_type": "code",
   "execution_count": 9,
   "metadata": {},
   "outputs": [
    {
     "name": "stdout",
     "output_type": "stream",
     "text": [
      "The dimentions of the array:  2\n"
     ]
    }
   ],
   "source": [
    "arr_2_dim = arr_1_dim[np.newaxis, :]\n",
    "print(\"The dimentions of the array: \",arr_2_dim.ndim)"
   ]
  },
  {
   "cell_type": "code",
   "execution_count": 10,
   "metadata": {},
   "outputs": [
    {
     "data": {
      "text/plain": [
       "array([2, 4, 8, 9, 7, 8, 7, 8, 6])"
      ]
     },
     "execution_count": 10,
     "metadata": {},
     "output_type": "execute_result"
    }
   ],
   "source": [
    "arr_1_dim"
   ]
  },
  {
   "cell_type": "code",
   "execution_count": 11,
   "metadata": {},
   "outputs": [
    {
     "name": "stdout",
     "output_type": "stream",
     "text": [
      "[[2 4 8 9 7 8 7 8 6]]\n",
      "The dimentions of the array:  2\n"
     ]
    }
   ],
   "source": [
    "arr2_2_dim = np.expand_dims(arr_1_dim, axis=0)\n",
    "print(arr2_2_dim)\n",
    "print(\"The dimentions of the array: \",arr2_2_dim.ndim)\n",
    "\n",
    "# we can also expand an array by inserting a new axis at a specified position with np.expand_dims."
   ]
  },
  {
   "cell_type": "markdown",
   "metadata": {},
   "source": [
    "# Questions 5:\n",
    "Consider two square numpy arrays. Stack them vertically and horizontally.\n",
    "Hint: Use vstack(), hstack()\n"
   ]
  },
  {
   "cell_type": "code",
   "execution_count": 12,
   "metadata": {},
   "outputs": [
    {
     "name": "stdout",
     "output_type": "stream",
     "text": [
      "sqr_mat_1: \n",
      "[[ 1  2  3  4]\n",
      " [ 5  6  7  8]\n",
      " [ 9 10 11 12]\n",
      " [13 14 15 16]]\n",
      "\n",
      "\n",
      "sqr_mat_2: \n",
      "[[18 19 20 21]\n",
      " [22 23 24 25]\n",
      " [26 27 28 29]\n",
      " [30 31 32 33]]\n"
     ]
    }
   ],
   "source": [
    "sqr_mat_1 = np.arange(1,17).reshape((4,4))\n",
    "sqr_mat_2 = np.arange(18,34).reshape((4,4))\n",
    "print('sqr_mat_1: ')\n",
    "print(sqr_mat_1)\n",
    "print('\\n')\n",
    "print('sqr_mat_2: ')\n",
    "print(sqr_mat_2)"
   ]
  },
  {
   "cell_type": "code",
   "execution_count": 13,
   "metadata": {},
   "outputs": [
    {
     "name": "stdout",
     "output_type": "stream",
     "text": [
      "Using vstck() to append two matrix vertically: \n",
      "\n",
      "\n",
      "[[ 1  2  3  4]\n",
      " [ 5  6  7  8]\n",
      " [ 9 10 11 12]\n",
      " [13 14 15 16]\n",
      " [18 19 20 21]\n",
      " [22 23 24 25]\n",
      " [26 27 28 29]\n",
      " [30 31 32 33]]\n"
     ]
    }
   ],
   "source": [
    "#using vstack() i can join two matrix vertically\n",
    "print('Using vstck() to append two matrix vertically: ')\n",
    "print('\\n')\n",
    "print( np.vstack((sqr_mat_1,sqr_mat_2)))"
   ]
  },
  {
   "cell_type": "code",
   "execution_count": 14,
   "metadata": {},
   "outputs": [
    {
     "name": "stdout",
     "output_type": "stream",
     "text": [
      "Using hstack() to join two matrix horizontally:\n",
      "\n",
      "\n",
      "[[ 1  2  3  4 18 19 20 21]\n",
      " [ 5  6  7  8 22 23 24 25]\n",
      " [ 9 10 11 12 26 27 28 29]\n",
      " [13 14 15 16 30 31 32 33]]\n"
     ]
    }
   ],
   "source": [
    "#using htack() i can join two matrix horizontally\n",
    "\n",
    "print('Using hstack() to join two matrix horizontally:')\n",
    "print('\\n')\n",
    "print(np.hstack((sqr_mat_1,sqr_mat_2)))"
   ]
  },
  {
   "cell_type": "markdown",
   "metadata": {},
   "source": [
    "# Questions 6:\n",
    "How to get unique items and counts of unique items?"
   ]
  },
  {
   "cell_type": "code",
   "execution_count": 15,
   "metadata": {},
   "outputs": [
    {
     "name": "stdout",
     "output_type": "stream",
     "text": [
      "Original list:  [10, 20, 55, 88, 10, 66, 20, 88, 10, 55]\n",
      "Unique item from the list [66, 10, 20, 55, 88]\n",
      "Length of the unique list (it is the same as how many unique items are there):  5\n"
     ]
    }
   ],
   "source": [
    "#i can use python \"set()\" to get unique item from list,\n",
    "\n",
    "list_num = [10, 20, 55, 88, 10, 66, 20, 88, 10, 55]\n",
    "#here a list of avengers charcaters name. and some name is repeated. \n",
    "# i can use python unique method to get unique charecters name with no repetitons\n",
    "set_list = list(set(list_num))\n",
    "print('Original list: ', list_num)\n",
    "print('Unique item from the list', set_list)\n",
    "print('Length of the unique list (it is the same as how many unique items are there): ', len(set_list))\n",
    "\n"
   ]
  },
  {
   "cell_type": "code",
   "execution_count": 16,
   "metadata": {},
   "outputs": [
    {
     "name": "stdout",
     "output_type": "stream",
     "text": [
      "The series:  0    10\n",
      "1    20\n",
      "2    55\n",
      "3    88\n",
      "4    10\n",
      "5    66\n",
      "6    20\n",
      "7    88\n",
      "8    10\n",
      "9    55\n",
      "dtype: int64\n",
      "Unique item in the series:  [10 20 55 88 66]\n",
      "Number of unique items 5\n"
     ]
    }
   ],
   "source": [
    "#there is another and more easy way to get unique item from a list that is pandas unique() method to get unique items\n",
    "# nunique() method - to get number of unique items, but for that I need to import pandas and convert list in to Series\n",
    "\n",
    "import pandas as pd\n",
    "ser = pd.Series(list_num)\n",
    "print('The series: ', ser)\n",
    "print('Unique item in the series: ', ser.unique())\n",
    "print('Number of unique items', ser.nunique())"
   ]
  },
  {
   "cell_type": "code",
   "execution_count": null,
   "metadata": {},
   "outputs": [],
   "source": []
  },
  {
   "cell_type": "code",
   "execution_count": null,
   "metadata": {},
   "outputs": [],
   "source": []
  }
 ],
 "metadata": {
  "kernelspec": {
   "display_name": "Python 3",
   "language": "python",
   "name": "python3"
  },
  "language_info": {
   "codemirror_mode": {
    "name": "ipython",
    "version": 3
   },
   "file_extension": ".py",
   "mimetype": "text/x-python",
   "name": "python",
   "nbconvert_exporter": "python",
   "pygments_lexer": "ipython3",
   "version": "3.8.3"
  }
 },
 "nbformat": 4,
 "nbformat_minor": 4
}
